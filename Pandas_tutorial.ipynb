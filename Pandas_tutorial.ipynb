{
 "cells": [
  {
   "cell_type": "code",
   "execution_count": 1,
   "metadata": {},
   "outputs": [],
   "source": [
    "import numpy as np\n",
    "import pandas as pd"
   ]
  },
  {
   "cell_type": "code",
   "execution_count": 2,
   "metadata": {},
   "outputs": [
    {
     "name": "stdout",
     "output_type": "stream",
     "text": [
      "   temperature  activity\n",
      "0            0         3\n",
      "1           10         7\n",
      "2           20         9\n",
      "3           30        14\n",
      "4           40        15\n"
     ]
    }
   ],
   "source": [
    "my_data = np.array([[0, 3], [10, 7], [20, 9], [30, 14], [40, 15]])\n",
    "col_names = ['temperature', 'activity']\n",
    "my_df = pd.DataFrame(data=my_data, columns=col_names)\n",
    "print(my_df)"
   ]
  },
  {
   "cell_type": "code",
   "execution_count": 5,
   "metadata": {},
   "outputs": [
    {
     "name": "stdout",
     "output_type": "stream",
     "text": [
      "   temperature  activity  adjusted\n",
      "0            0         3         5\n",
      "1           10         7         9\n",
      "2           20         9        11\n",
      "3           30        14        16\n",
      "4           40        15        17\n"
     ]
    }
   ],
   "source": [
    "my_df[\"adjusted\"] = my_df[\"activity\"] + 2\n",
    "print(my_df)"
   ]
  },
  {
   "cell_type": "code",
   "execution_count": 6,
   "metadata": {},
   "outputs": [
    {
     "name": "stdout",
     "output_type": "stream",
     "text": [
      "Rows #0, #1, and #2:\n",
      "   temperature  activity  adjusted\n",
      "0            0         3         5\n",
      "1           10         7         9\n",
      "2           20         9        11 \n",
      "\n",
      "Row #2:\n",
      "   temperature  activity  adjusted\n",
      "2           20         9        11 \n",
      "\n",
      "Rows #1, #2, and #3:\n",
      "   temperature  activity  adjusted\n",
      "1           10         7         9\n",
      "2           20         9        11\n",
      "3           30        14        16 \n",
      "\n",
      "Column 'temperature':\n",
      "0     0\n",
      "1    10\n",
      "2    20\n",
      "3    30\n",
      "4    40\n",
      "Name: temperature, dtype: int64\n"
     ]
    }
   ],
   "source": [
    "print(\"Rows #0, #1, and #2:\")\n",
    "print(my_df.head(3), '\\n')\n",
    "\n",
    "print(\"Row #2:\")\n",
    "print(my_df.iloc[[2]], '\\n')\n",
    "\n",
    "print(\"Rows #1, #2, and #3:\")\n",
    "print(my_df[1:4], '\\n')\n",
    "\n",
    "print(\"Column 'temperature':\")\n",
    "print(my_df['temperature'])"
   ]
  },
  {
   "cell_type": "code",
   "execution_count": 13,
   "metadata": {},
   "outputs": [
    {
     "name": "stdout",
     "output_type": "stream",
     "text": [
      "   Eleanor  Chidi  Tahani  Jason\n",
      "0       19     91       2     92\n",
      "1       22     85      98     84\n",
      "2       11     13      97     57\n"
     ]
    }
   ],
   "source": [
    "task1_data = np.random.randint(low=0, high=101, size=(3, 4))\n",
    "task1_colnames = ['Eleanor', 'Chidi', 'Tahani', 'Jason']\n",
    "# print(task1_data)\n",
    "task1_df = pd.DataFrame(data=task1_data, columns=task1_colnames)\n",
    "print(task1_df)"
   ]
  },
  {
   "cell_type": "code",
   "execution_count": 15,
   "metadata": {},
   "outputs": [
    {
     "name": "stdout",
     "output_type": "stream",
     "text": [
      "19\n"
     ]
    }
   ],
   "source": [
    "print(task1_df['Eleanor'][0])"
   ]
  },
  {
   "cell_type": "code",
   "execution_count": 17,
   "metadata": {},
   "outputs": [
    {
     "name": "stdout",
     "output_type": "stream",
     "text": [
      "   Eleanor  Chidi  Tahani  Jason  Janet\n",
      "0       19     91       2     92     94\n",
      "1       22     85      98     84    182\n",
      "2       11     13      97     57    154\n"
     ]
    }
   ],
   "source": [
    "task1_df['Janet'] = task1_df['Tahani'] + task1_df['Jason']\n",
    "print(task1_df)"
   ]
  },
  {
   "cell_type": "code",
   "execution_count": 19,
   "metadata": {},
   "outputs": [
    {
     "name": "stdout",
     "output_type": "stream",
     "text": [
      "Experiment with a reference:\n",
      "  Starting value of df: 84\n",
      "  Starting value of reference_to_df: 84\n",
      "\n"
     ]
    }
   ],
   "source": [
    "print(\"Experiment with a reference:\")\n",
    "reference_to_df = task1_df\n",
    "\n",
    "print(\"  Starting value of df: %d\" % task1_df['Jason'][1])\n",
    "print(\"  Starting value of reference_to_df: %d\\n\" % reference_to_df['Jason'][1])"
   ]
  },
  {
   "cell_type": "code",
   "execution_count": 21,
   "metadata": {},
   "outputs": [
    {
     "name": "stdout",
     "output_type": "stream",
     "text": [
      "  Updated df: 94\n",
      "  Updated reference_to_df: 94\n",
      "\n",
      "\n"
     ]
    }
   ],
   "source": [
    "task1_df.at[1, 'Jason'] = task1_df['Jason'][1] + 5\n",
    "print(\"  Updated df: %d\" % task1_df['Jason'][1])\n",
    "print(\"  Updated reference_to_df: %d\\n\\n\" % reference_to_df['Jason'][1])"
   ]
  },
  {
   "cell_type": "code",
   "execution_count": 23,
   "metadata": {},
   "outputs": [
    {
     "name": "stdout",
     "output_type": "stream",
     "text": [
      "Experiment with a true copy:\n",
      "  Starting value of my_dataframe: 7\n",
      "  Starting value of copy_of_my_dataframe: 7\n",
      "\n"
     ]
    }
   ],
   "source": [
    "print(\"Experiment with a true copy:\")\n",
    "copy_of_my_dataframe = my_df.copy()\n",
    "\n",
    "print(\"  Starting value of my_dataframe: %d\" % my_df['activity'][1])\n",
    "print(\"  Starting value of copy_of_my_dataframe: %d\\n\" % copy_of_my_dataframe['activity'][1])"
   ]
  },
  {
   "cell_type": "markdown",
   "metadata": {},
   "source": []
  },
  {
   "cell_type": "code",
   "execution_count": 24,
   "metadata": {},
   "outputs": [
    {
     "name": "stdout",
     "output_type": "stream",
     "text": [
      "  Updated my_dataframe: 10\n",
      "  copy_of_my_dataframe does not get updated: 7\n"
     ]
    }
   ],
   "source": [
    "my_df.at[1, 'activity'] = my_df['activity'][1] + 3\n",
    "print(\"  Updated my_dataframe: %d\" % my_df['activity'][1])\n",
    "print(\"  copy_of_my_dataframe does not get updated: %d\" % copy_of_my_dataframe['activity'][1])"
   ]
  },
  {
   "cell_type": "code",
   "execution_count": null,
   "metadata": {},
   "outputs": [],
   "source": []
  }
 ],
 "metadata": {
  "kernelspec": {
   "display_name": "Python 3.9.13 ('base')",
   "language": "python",
   "name": "python3"
  },
  "language_info": {
   "codemirror_mode": {
    "name": "ipython",
    "version": 3
   },
   "file_extension": ".py",
   "mimetype": "text/x-python",
   "name": "python",
   "nbconvert_exporter": "python",
   "pygments_lexer": "ipython3",
   "version": "3.9.13"
  },
  "orig_nbformat": 4,
  "vscode": {
   "interpreter": {
    "hash": "f0eaf129efa59e4a618b899fd00c445512bbd26c6326f903d987d0e4d47ff905"
   }
  }
 },
 "nbformat": 4,
 "nbformat_minor": 2
}
